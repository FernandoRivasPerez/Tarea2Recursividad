{
  "nbformat": 4,
  "nbformat_minor": 0,
  "metadata": {
    "colab": {
      "name": "cuentaRegresiva_Recursividad.ipynb",
      "provenance": []
    },
    "kernelspec": {
      "name": "python3",
      "display_name": "Python 3"
    },
    "language_info": {
      "name": "python"
    }
  },
  "cells": [
    {
      "cell_type": "code",
      "metadata": {
        "id": "cItge3Eu58qG"
      },
      "source": [
        "def cuentaRegresiva( n ):\n",
        "    if n >= 0:\n",
        "        print( n )\n",
        "        cuentaRegresiva( n - 1 )\n",
        "        if n == 0:   \n",
        "            print(\"BOOMMMMM!!!\")"
      ],
      "execution_count": null,
      "outputs": []
    },
    {
      "cell_type": "code",
      "metadata": {
        "colab": {
          "base_uri": "https://localhost:8080/"
        },
        "id": "RdZYksnO74dH",
        "outputId": "2873ab3a-bb4b-4bb0-e312-bfd91c059dba"
      },
      "source": [
        "cuentaRegresiva( 10 )"
      ],
      "execution_count": null,
      "outputs": [
        {
          "output_type": "stream",
          "name": "stdout",
          "text": [
            "10\n",
            "9\n",
            "8\n",
            "7\n",
            "6\n",
            "5\n",
            "4\n",
            "3\n",
            "2\n",
            "1\n",
            "0\n",
            "BOOMMMMM!!!\n"
          ]
        }
      ]
    }
  ]
}