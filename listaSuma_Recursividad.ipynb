{
  "nbformat": 4,
  "nbformat_minor": 0,
  "metadata": {
    "colab": {
      "name": "listaSuma_Recursividad.ipynb",
      "provenance": []
    },
    "kernelspec": {
      "name": "python3",
      "display_name": "Python 3"
    },
    "language_info": {
      "name": "python"
    }
  },
  "cells": [
    {
      "cell_type": "code",
      "metadata": {
        "colab": {
          "base_uri": "https://localhost:8080/"
        },
        "id": "h7ueuncO_zDz",
        "outputId": "68e3080f-51e1-429c-dfa2-90f21870ebee"
      },
      "source": [
        "lista = [ 2, 3, 4, 5]\n",
        "def suma( lista ):\n",
        "    if len( lista ) == 0:\n",
        "        return 0\n",
        "    else:\n",
        "        return lista[ 0 ] + suma( lista[1:] )\n",
        "print(suma(lista))"
      ],
      "execution_count": null,
      "outputs": [
        {
          "output_type": "stream",
          "name": "stdout",
          "text": [
            "14\n"
          ]
        }
      ]
    }
  ]
}