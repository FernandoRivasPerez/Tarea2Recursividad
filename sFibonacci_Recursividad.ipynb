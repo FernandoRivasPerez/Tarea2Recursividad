{
  "nbformat": 4,
  "nbformat_minor": 0,
  "metadata": {
    "colab": {
      "name": "sFibonacci_Recursividad.ipynb",
      "provenance": []
    },
    "kernelspec": {
      "name": "python3",
      "display_name": "Python 3"
    },
    "language_info": {
      "name": "python"
    }
  },
  "cells": [
    {
      "cell_type": "code",
      "metadata": {
        "id": "DvaK19dpSKat"
      },
      "source": [
        "def sFibonacci( n ):\n",
        "    if n == 0:\n",
        "        return 0\n",
        "    elif n == 1:\n",
        "        return 1\n",
        "    else:\n",
        "        return sFibonacci ( n - 1 ) + sFibonacci ( n - 2 )\n",
        "        print( n )\n"
      ],
      "execution_count": null,
      "outputs": []
    },
    {
      "cell_type": "code",
      "metadata": {
        "colab": {
          "base_uri": "https://localhost:8080/"
        },
        "id": "qV3tXlr9T-MV",
        "outputId": "bb5eae65-042f-4f36-a052-f27410ef034f"
      },
      "source": [
        "sFibonacci( 24 )"
      ],
      "execution_count": null,
      "outputs": [
        {
          "output_type": "execute_result",
          "data": {
            "text/plain": [
              "46368"
            ]
          },
          "metadata": {},
          "execution_count": 15
        }
      ]
    }
  ]
}