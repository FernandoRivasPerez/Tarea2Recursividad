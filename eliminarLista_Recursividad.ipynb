{
  "nbformat": 4,
  "nbformat_minor": 0,
  "metadata": {
    "colab": {
      "name": "eliminarLista_Recursividad.ipynb",
      "provenance": []
    },
    "kernelspec": {
      "name": "python3",
      "display_name": "Python 3"
    },
    "language_info": {
      "name": "python"
    }
  },
  "cells": [
    {
      "cell_type": "code",
      "metadata": {
        "colab": {
          "base_uri": "https://localhost:8080/"
        },
        "id": "0LuWdF2amjuO",
        "outputId": "bed6ef87-df3e-49f1-9559-36ea6df27e1a"
      },
      "source": [
        "lista = [ 4, 3, 2 ]\n",
        "lista.pop(1)\n",
        "print( lista )"
      ],
      "execution_count": 2,
      "outputs": [
        {
          "output_type": "stream",
          "name": "stdout",
          "text": [
            "[4, 2]\n"
          ]
        }
      ]
    },
    {
      "cell_type": "code",
      "metadata": {
        "colab": {
          "base_uri": "https://localhost:8080/"
        },
        "id": "DEjQfIMVRNBE",
        "outputId": "ac7d19c1-e70b-4a62-e0fd-75792959114b"
      },
      "source": [
        "listaDos = [ 5, 4, 3, 2, 1, 0 ]\n",
        "listaDos.pop(2)\n",
        "print( listaDos )"
      ],
      "execution_count": 5,
      "outputs": [
        {
          "output_type": "stream",
          "name": "stdout",
          "text": [
            "[5, 4, 2, 1, 0]\n"
          ]
        }
      ]
    }
  ]
}